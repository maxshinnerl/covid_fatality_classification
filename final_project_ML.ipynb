{
 "cells": [
  {
   "cell_type": "code",
   "execution_count": 1,
   "metadata": {},
   "outputs": [],
   "source": [
    "import numpy as np\n",
    "import pandas as pd\n",
    "from   sklearn.compose         import *\n",
    "from   sklearn.experimental    import enable_iterative_imputer\n",
    "from   sklearn.impute          import *\n",
    "from   sklearn.linear_model    import LinearRegression \n",
    "from   sklearn.linear_model    import LogisticRegression, RidgeClassifier\n",
    "from   sklearn.metrics         import mean_absolute_error\n",
    "from   sklearn.model_selection import train_test_split\n",
    "from   sklearn.pipeline        import Pipeline\n",
    "from   sklearn.preprocessing   import *\n",
    "# remove gap\n",
    "from   sklearn.metrics         import balanced_accuracy_score\n",
    "from   sklearn.inspection      import permutation_importance\n",
    "from   sklearn.decomposition   import PCA\n",
    "from   sklearn.dummy           import DummyClassifier\n",
    "from   sklearn.ensemble        import RandomForestClassifier\n",
    "from   sklearn.model_selection import RandomizedSearchCV\n",
    "from   sklearn.base            import BaseEstimator, TransformerMixin"
   ]
  },
  {
   "cell_type": "code",
   "execution_count": 2,
   "metadata": {},
   "outputs": [],
   "source": [
    "df = pd.read_csv('data/sub_COVID-19_Case_Surveillance_Public_Use_Data.csv')"
   ]
  },
  {
   "cell_type": "markdown",
   "metadata": {},
   "source": [
    "### Assumption of Supervised Machine Learning is that each instance has a label.  We will discard instances with missing/unknown targets before beginning\n",
    "(Target transformations are ok to do outside of pipeline)"
   ]
  },
  {
   "cell_type": "code",
   "execution_count": 3,
   "metadata": {},
   "outputs": [],
   "source": [
    "df_clean_target = df[(df['death_yn'] != 'Unknown') & (df['death_yn'] != 'Missing')]"
   ]
  },
  {
   "cell_type": "code",
   "execution_count": 4,
   "metadata": {},
   "outputs": [
    {
     "data": {
      "text/plain": [
       "{'No', 'Yes'}"
      ]
     },
     "execution_count": 4,
     "metadata": {},
     "output_type": "execute_result"
    }
   ],
   "source": [
    "set(df_clean_target['death_yn'])  # remove"
   ]
  },
  {
   "cell_type": "code",
   "execution_count": 5,
   "metadata": {},
   "outputs": [
    {
     "data": {
      "text/plain": [
       "50472"
      ]
     },
     "execution_count": 5,
     "metadata": {},
     "output_type": "execute_result"
    }
   ],
   "source": [
    "len(df_clean_target)  # remove"
   ]
  },
  {
   "cell_type": "markdown",
   "metadata": {},
   "source": [
    "### Separate target from rest of DataFrame"
   ]
  },
  {
   "cell_type": "code",
   "execution_count": 6,
   "metadata": {},
   "outputs": [],
   "source": [
    "df_X = df_clean_target.drop('death_yn', axis=1)\n",
    "df_y = pd.DataFrame(df_clean_target['death_yn'])\n",
    "X = df_X.to_numpy()\n",
    "y = df_y.to_numpy()"
   ]
  },
  {
   "cell_type": "markdown",
   "metadata": {},
   "source": [
    "### Split into train, validation, and test"
   ]
  },
  {
   "cell_type": "code",
   "execution_count": 7,
   "metadata": {},
   "outputs": [],
   "source": [
    "X_train_pre, X_test, y_train_pre, y_test = train_test_split(X, y, train_size=0.8)\n",
    "X_train, X_validate, y_train, y_validate = train_test_split(X_train_pre, y_train_pre, train_size=0.8)"
   ]
  },
  {
   "cell_type": "code",
   "execution_count": 8,
   "metadata": {},
   "outputs": [
    {
     "data": {
      "text/plain": [
       "True"
      ]
     },
     "execution_count": 8,
     "metadata": {},
     "output_type": "execute_result"
    }
   ],
   "source": [
    "len(X_train)+len(X_test)+len(X_validate)==len(df_clean_target)  # remove"
   ]
  },
  {
   "cell_type": "markdown",
   "metadata": {},
   "source": [
    "### Build Pipeline"
   ]
  },
  {
   "cell_type": "code",
   "execution_count": 9,
   "metadata": {},
   "outputs": [],
   "source": [
    "# get categorical columns\n",
    "categorical_columns = (df_X.dtypes == object)"
   ]
  },
  {
   "cell_type": "code",
   "execution_count": 10,
   "metadata": {},
   "outputs": [],
   "source": [
    "# continuous variable preprocessing pipeline\n",
    "con_pipe = Pipeline([('imputer', SimpleImputer(missing_values=np.nan, strategy='median', add_indicator=True)),\n",
    "                     ('scaler', StandardScaler())\n",
    "                    ])\n",
    "\n",
    "# categorical variable preprocessing pipeline\n",
    "cat_pipe = Pipeline([('imputer_nan', SimpleImputer(missing_values=np.nan, strategy='most_frequent', add_indicator=True)),\n",
    "                     ('imputer_missing', SimpleImputer(missing_values='Missing', strategy='most_frequent', add_indicator=True)),\n",
    "                     ('imputer_unknown', SimpleImputer(missing_values='Unknown', strategy='most_frequent', add_indicator=True)),\n",
    "                     ('ohe'    , OneHotEncoder(handle_unknown='ignore'))\n",
    "                    ])\n",
    "\n",
    "# combine preprocessing together\n",
    "preprocessing = ColumnTransformer([('categorical', cat_pipe, categorical_columns),\n",
    "                                   ('continuous' , con_pipe, ~categorical_columns)\n",
    "                                  ])"
   ]
  },
  {
   "cell_type": "markdown",
   "metadata": {},
   "source": [
    "### Simple attempt to get baseline"
   ]
  },
  {
   "cell_type": "code",
   "execution_count": 11,
   "metadata": {},
   "outputs": [],
   "source": [
    "pipe = Pipeline([('prep' , preprocessing),\n",
    "                 ('lg' , LogisticRegression(solver='liblinear'))\n",
    "                ])"
   ]
  },
  {
   "cell_type": "code",
   "execution_count": 12,
   "metadata": {},
   "outputs": [
    {
     "data": {
      "text/plain": [
       "0.6762625572417852"
      ]
     },
     "execution_count": 12,
     "metadata": {},
     "output_type": "execute_result"
    }
   ],
   "source": [
    "pipe.fit(X_train, y_train.ravel())\n",
    "y_pred = pipe.predict(X_validate)\n",
    "balanced_accuracy_score(y_validate.ravel(), y_pred)"
   ]
  },
  {
   "cell_type": "markdown",
   "metadata": {},
   "source": [
    "### Hyperparameter Tuning and Cross Validation\n",
    "get hyperparams for LR, RF, Ridge"
   ]
  },
  {
   "cell_type": "code",
   "execution_count": 13,
   "metadata": {},
   "outputs": [
    {
     "data": {
      "text/plain": [
       "{'bootstrap': True,\n",
       " 'ccp_alpha': 0.0,\n",
       " 'class_weight': None,\n",
       " 'criterion': 'gini',\n",
       " 'max_depth': None,\n",
       " 'max_features': 'auto',\n",
       " 'max_leaf_nodes': None,\n",
       " 'max_samples': None,\n",
       " 'min_impurity_decrease': 0.0,\n",
       " 'min_impurity_split': None,\n",
       " 'min_samples_leaf': 1,\n",
       " 'min_samples_split': 2,\n",
       " 'min_weight_fraction_leaf': 0.0,\n",
       " 'n_estimators': 100,\n",
       " 'n_jobs': None,\n",
       " 'oob_score': False,\n",
       " 'random_state': None,\n",
       " 'verbose': 0,\n",
       " 'warm_start': False}"
      ]
     },
     "execution_count": 13,
     "metadata": {},
     "output_type": "execute_result"
    }
   ],
   "source": [
    "RandomForestClassifier().get_params()"
   ]
  },
  {
   "cell_type": "code",
   "execution_count": 14,
   "metadata": {},
   "outputs": [
    {
     "data": {
      "text/plain": [
       "{'C': 1.0,\n",
       " 'class_weight': None,\n",
       " 'dual': False,\n",
       " 'fit_intercept': True,\n",
       " 'intercept_scaling': 1,\n",
       " 'l1_ratio': None,\n",
       " 'max_iter': 100,\n",
       " 'multi_class': 'auto',\n",
       " 'n_jobs': None,\n",
       " 'penalty': 'l2',\n",
       " 'random_state': None,\n",
       " 'solver': 'lbfgs',\n",
       " 'tol': 0.0001,\n",
       " 'verbose': 0,\n",
       " 'warm_start': False}"
      ]
     },
     "execution_count": 14,
     "metadata": {},
     "output_type": "execute_result"
    }
   ],
   "source": [
    "LogisticRegression().get_params()"
   ]
  },
  {
   "cell_type": "code",
   "execution_count": 15,
   "metadata": {},
   "outputs": [
    {
     "data": {
      "text/plain": [
       "{'alpha': 1.0,\n",
       " 'class_weight': None,\n",
       " 'copy_X': True,\n",
       " 'fit_intercept': True,\n",
       " 'max_iter': None,\n",
       " 'normalize': False,\n",
       " 'random_state': None,\n",
       " 'solver': 'auto',\n",
       " 'tol': 0.001}"
      ]
     },
     "execution_count": 15,
     "metadata": {},
     "output_type": "execute_result"
    }
   ],
   "source": [
    "RidgeClassifier().get_params()"
   ]
  },
  {
   "cell_type": "code",
   "execution_count": 16,
   "metadata": {},
   "outputs": [],
   "source": [
    "class DummyEstimator(BaseEstimator):\n",
    "    \"Pass through class, methods are present but do nothing.\"\n",
    "    def fit(self): pass\n",
    "    def score(self): pass"
   ]
  },
  {
   "cell_type": "code",
   "execution_count": 17,
   "metadata": {},
   "outputs": [],
   "source": [
    "pipe = Pipeline([\n",
    "                 ('prep', preprocessing),\n",
    "                 ('clf', DummyEstimator())\n",
    "                ])\n",
    "\n",
    "search_space = [\n",
    "                 # LogisticRegression\n",
    "                 {'clf' : [LogisticRegression(solver='liblinear')],\n",
    "                  'clf__penalty': ['l1', 'l2'],\n",
    "                  'clf__C' : np.logspace(0, 4, 10),\n",
    "                  'clf__class_weight' : [None, 'balanced']\n",
    "                 },\n",
    "    \n",
    "                 # RidgeClassifier\n",
    "                 {'clf' : [RidgeClassifier(solver='auto')],\n",
    "                  'clf__tol' : [0.001, 0.01, 0.1],\n",
    "                  'clf__max_iter' : [None, 1, 10, 100, 1000],\n",
    "                  'clf__class_weight' : [None, 'balanced'],\n",
    "                  'clf__normalize' : [False, True]\n",
    "                 },\n",
    "                 \n",
    "                 # RandomForest\n",
    "                 {'clf' : [RandomForestClassifier(n_jobs=-1)],\n",
    "                  'clf__criterion' : ['gini', 'entropy'],\n",
    "                  'clf__class_weight' : [None, 'balanced'],\n",
    "                  'clf__max_depth' : list(range(2,11)),\n",
    "                  'clf__max_features' : ['auto', 'log2', 'sqrt'],\n",
    "                  'clf__n_estimators' : list(range(50, 250, 50)),\n",
    "                  'clf__bootstrap' : [True, False]\n",
    "                 }\n",
    "    \n",
    "    \n",
    "               ]"
   ]
  },
  {
   "cell_type": "code",
   "execution_count": 18,
   "metadata": {},
   "outputs": [],
   "source": [
    "clf_algos_rand = RandomizedSearchCV(estimator=pipe,\n",
    "                                    param_distributions=search_space,\n",
    "                                    scoring='balanced_accuracy',\n",
    "                                    n_iter=100,\n",
    "                                    cv=5,\n",
    "                                    n_jobs=-1)"
   ]
  },
  {
   "cell_type": "code",
   "execution_count": 19,
   "metadata": {},
   "outputs": [
    {
     "data": {
      "text/plain": [
       "Pipeline(steps=[('prep',\n",
       "                 ColumnTransformer(transformers=[('categorical',\n",
       "                                                  Pipeline(steps=[('imputer_nan',\n",
       "                                                                   SimpleImputer(add_indicator=True,\n",
       "                                                                                 strategy='most_frequent')),\n",
       "                                                                  ('imputer_missing',\n",
       "                                                                   SimpleImputer(add_indicator=True,\n",
       "                                                                                 missing_values='Missing',\n",
       "                                                                                 strategy='most_frequent')),\n",
       "                                                                  ('imputer_unknown',\n",
       "                                                                   SimpleImputer(add_indicator=True,\n",
       "                                                                                 missing_values='Unknown',\n",
       "                                                                                 strateg...\n",
       "                                                                  ('scaler',\n",
       "                                                                   StandardScaler())]),\n",
       "                                                  Unnamed: 0                  True\n",
       "cdc_case_earliest_dt       False\n",
       "cdc_report_dt              False\n",
       "pos_spec_dt                False\n",
       "onset_dt                   False\n",
       "current_status             False\n",
       "sex                        False\n",
       "age_group                  False\n",
       "race_ethnicity_combined    False\n",
       "hosp_yn                    False\n",
       "icu_yn                     False\n",
       "medcond_yn                 False\n",
       "dtype: bool)])),\n",
       "                ('clf',\n",
       "                 RandomForestClassifier(class_weight='balanced',\n",
       "                                        criterion='entropy', max_depth=10,\n",
       "                                        n_estimators=150, n_jobs=-1))])"
      ]
     },
     "execution_count": 19,
     "metadata": {},
     "output_type": "execute_result"
    }
   ],
   "source": [
    "# fit it and see results\n",
    "best_model = clf_algos_rand.fit(X_train, y_train.ravel())\n",
    "best_model.best_estimator_"
   ]
  },
  {
   "cell_type": "code",
   "execution_count": 20,
   "metadata": {},
   "outputs": [],
   "source": [
    "clf_pipe = Pipeline([(\n",
    "                       'clf', RandomForestClassifier(class_weight='balanced',\n",
    "                                                     max_depth=10,\n",
    "                                                     max_features='sqrt',\n",
    "                                                     bootstrap=False,\n",
    "                                                     n_estimators = 150,\n",
    "                                                     n_jobs=-1,\n",
    "                                                     criterion='entropy')\n",
    ")])"
   ]
  },
  {
   "cell_type": "code",
   "execution_count": 21,
   "metadata": {},
   "outputs": [],
   "source": [
    "# create end-to-end pipeline\n",
    "\n",
    "pipe = Pipeline([\n",
    "                 ('prep' , preprocessing),\n",
    "                 ('rf', clf_pipe )\n",
    "                ])\n"
   ]
  },
  {
   "cell_type": "markdown",
   "metadata": {},
   "source": [
    "### Fit model, get Balanced Accuracy Score"
   ]
  },
  {
   "cell_type": "code",
   "execution_count": 22,
   "metadata": {},
   "outputs": [
    {
     "data": {
      "text/plain": [
       "0.889473654136527"
      ]
     },
     "execution_count": 22,
     "metadata": {},
     "output_type": "execute_result"
    }
   ],
   "source": [
    "pipe.fit(X_train, y_train.ravel())\n",
    "y_pred = pipe.predict(X_validate)\n",
    "bal = (balanced_accuracy_score(y_validate.ravel(), y_pred))\n",
    "bal"
   ]
  },
  {
   "cell_type": "markdown",
   "metadata": {},
   "source": [
    "### Find Feature importances\n",
    "should probably move this to the EDA notebook"
   ]
  },
  {
   "cell_type": "code",
   "execution_count": 23,
   "metadata": {},
   "outputs": [
    {
     "name": "stdout",
     "output_type": "stream",
     "text": [
      "['onset_dt', 0.006884596334819193, 0.0013128813535105716]\n",
      "['hosp_yn', 0.006828875681030189, 0.0017070049096718379]\n",
      "['pos_spec_dt', 0.003813769192669625, 0.0005717383051320038]\n",
      "['cdc_report_dt', 0.0028145121347201486, 0.0010768894550176363]\n",
      "['icu_yn', 0.002163199603764232, 0.0009997494694587799]\n",
      "['sex', 0.001058692421991081, 0.0007415735704217824]\n",
      "['cdc_case_earliest_dt ', 0.0005002476473501716, 0.0005638860012575715]\n",
      "['current_status', 0.0001027736503219412, 0.00025014527735218946]\n",
      "['race_ethnicity_combined', -0.0016419019316493255, 0.0011109157604042505]\n",
      "['medcond_yn', -0.005023526498266451, 0.0009532420687329096]\n",
      "['age_group', -0.018831104507181794, 0.0014803719783639212]\n",
      "['Unnamed: 0', -0.02336676572560676, 0.0013967722191567161]\n"
     ]
    },
    {
     "data": {
      "text/plain": [
       "[None, None, None, None, None, None, None, None, None, None, None, None]"
      ]
     },
     "execution_count": 23,
     "metadata": {},
     "output_type": "execute_result"
    }
   ],
   "source": [
    "r = permutation_importance(pipe,\n",
    "                           X_validate, y_validate,\n",
    "                           n_repeats=100,\n",
    "                           random_state=42)\n",
    "\n",
    "f = []\n",
    "for i in range(len(r['importances_mean'])):\n",
    "    f.append([])\n",
    "    f[i].append(df_X.columns[i])\n",
    "    f[i].append(r['importances_mean'][i])\n",
    "    f[i].append(r['importances_std'][i])\n",
    "\n",
    "f.sort(key=lambda x: x[1], reverse=True)\n",
    "[print(i) for i in f]"
   ]
  },
  {
   "cell_type": "markdown",
   "metadata": {},
   "source": [
    "### Fit against test set for final evaluation"
   ]
  },
  {
   "cell_type": "code",
   "execution_count": 32,
   "metadata": {},
   "outputs": [
    {
     "data": {
      "text/plain": [
       "0.8980413280504382"
      ]
     },
     "execution_count": 32,
     "metadata": {},
     "output_type": "execute_result"
    }
   ],
   "source": [
    "pipe = Pipeline([\n",
    "                 ('prep' , preprocessing),\n",
    "                 ('rf', clf_pipe )\n",
    "                ])\n",
    "\n",
    "\n",
    "\n",
    "pipe.fit(X_train_pre, y_train_pre.ravel())\n",
    "y_pred = pipe.predict(X_test)\n",
    "bal = (balanced_accuracy_score(y_test.ravel(), y_pred))\n",
    "bal"
   ]
  },
  {
   "cell_type": "code",
   "execution_count": null,
   "metadata": {},
   "outputs": [],
   "source": []
  }
 ],
 "metadata": {
  "kernelspec": {
   "display_name": "Python 3",
   "language": "python",
   "name": "python3"
  },
  "language_info": {
   "codemirror_mode": {
    "name": "ipython",
    "version": 3
   },
   "file_extension": ".py",
   "mimetype": "text/x-python",
   "name": "python",
   "nbconvert_exporter": "python",
   "pygments_lexer": "ipython3",
   "version": "3.8.3"
  }
 },
 "nbformat": 4,
 "nbformat_minor": 4
}
